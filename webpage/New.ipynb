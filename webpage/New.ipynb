{
 "cells": [
  {
   "cell_type": "code",
   "execution_count": 1,
   "metadata": {},
   "outputs": [
    {
     "name": "stdout",
     "output_type": "stream",
     "text": [
      "Collecting DeepImageSearch\n",
      "  Using cached DeepImageSearch-1.4.tar.gz (6.5 kB)\n",
      "  Preparing metadata (setup.py): started\n",
      "  Preparing metadata (setup.py): finished with status 'done'\n",
      "Collecting annoy\n",
      "  Using cached annoy-1.17.1.tar.gz (647 kB)\n",
      "  Preparing metadata (setup.py): started\n",
      "  Preparing metadata (setup.py): finished with status 'done'\n",
      "Requirement already satisfied: matplotlib in c:\\users\\tejas\\appdata\\local\\programs\\python\\python310\\lib\\site-packages (from DeepImageSearch) (3.6.1)\n",
      "Collecting pandas\n",
      "  Using cached pandas-1.5.1-cp310-cp310-win_amd64.whl (10.4 MB)\n",
      "Requirement already satisfied: numpy in c:\\users\\tejas\\appdata\\local\\programs\\python\\python310\\lib\\site-packages (from DeepImageSearch) (1.23.4)\n",
      "Requirement already satisfied: tensorflow in c:\\users\\tejas\\appdata\\local\\programs\\python\\python310\\lib\\site-packages (from DeepImageSearch) (2.10.0)\n",
      "Collecting tqdm\n",
      "  Using cached tqdm-4.64.1-py2.py3-none-any.whl (78 kB)\n",
      "Requirement already satisfied: Pillow in c:\\users\\tejas\\appdata\\local\\programs\\python\\python310\\lib\\site-packages (from DeepImageSearch) (9.2.0)\n",
      "Requirement already satisfied: python-dateutil>=2.7 in c:\\users\\tejas\\appdata\\local\\programs\\python\\python310\\lib\\site-packages (from matplotlib->DeepImageSearch) (2.8.2)\n",
      "Requirement already satisfied: pyparsing>=2.2.1 in c:\\users\\tejas\\appdata\\local\\programs\\python\\python310\\lib\\site-packages (from matplotlib->DeepImageSearch) (3.0.9)\n",
      "Requirement already satisfied: cycler>=0.10 in c:\\users\\tejas\\appdata\\local\\programs\\python\\python310\\lib\\site-packages (from matplotlib->DeepImageSearch) (0.11.0)\n",
      "Requirement already satisfied: kiwisolver>=1.0.1 in c:\\users\\tejas\\appdata\\local\\programs\\python\\python310\\lib\\site-packages (from matplotlib->DeepImageSearch) (1.4.4)\n",
      "Requirement already satisfied: packaging>=20.0 in c:\\users\\tejas\\appdata\\local\\programs\\python\\python310\\lib\\site-packages (from matplotlib->DeepImageSearch) (21.3)\n",
      "Requirement already satisfied: fonttools>=4.22.0 in c:\\users\\tejas\\appdata\\local\\programs\\python\\python310\\lib\\site-packages (from matplotlib->DeepImageSearch) (4.37.4)\n",
      "Requirement already satisfied: contourpy>=1.0.1 in c:\\users\\tejas\\appdata\\local\\programs\\python\\python310\\lib\\site-packages (from matplotlib->DeepImageSearch) (1.0.5)\n",
      "Requirement already satisfied: pytz>=2020.1 in c:\\users\\tejas\\appdata\\local\\programs\\python\\python310\\lib\\site-packages (from pandas->DeepImageSearch) (2022.5)\n",
      "Requirement already satisfied: protobuf<3.20,>=3.9.2 in c:\\users\\tejas\\appdata\\local\\programs\\python\\python310\\lib\\site-packages (from tensorflow->DeepImageSearch) (3.19.6)\n",
      "Requirement already satisfied: wrapt>=1.11.0 in c:\\users\\tejas\\appdata\\local\\programs\\python\\python310\\lib\\site-packages (from tensorflow->DeepImageSearch) (1.14.1)\n",
      "Requirement already satisfied: grpcio<2.0,>=1.24.3 in c:\\users\\tejas\\appdata\\local\\programs\\python\\python310\\lib\\site-packages (from tensorflow->DeepImageSearch) (1.50.0)\n",
      "Requirement already satisfied: google-pasta>=0.1.1 in c:\\users\\tejas\\appdata\\local\\programs\\python\\python310\\lib\\site-packages (from tensorflow->DeepImageSearch) (0.2.0)\n",
      "Requirement already satisfied: opt-einsum>=2.3.2 in c:\\users\\tejas\\appdata\\local\\programs\\python\\python310\\lib\\site-packages (from tensorflow->DeepImageSearch) (3.3.0)\n",
      "Requirement already satisfied: absl-py>=1.0.0 in c:\\users\\tejas\\appdata\\local\\programs\\python\\python310\\lib\\site-packages (from tensorflow->DeepImageSearch) (1.3.0)\n",
      "Requirement already satisfied: termcolor>=1.1.0 in c:\\users\\tejas\\appdata\\local\\programs\\python\\python310\\lib\\site-packages (from tensorflow->DeepImageSearch) (2.0.1)\n",
      "Requirement already satisfied: setuptools in c:\\users\\tejas\\appdata\\local\\programs\\python\\python310\\lib\\site-packages (from tensorflow->DeepImageSearch) (63.2.0)\n",
      "Requirement already satisfied: six>=1.12.0 in c:\\users\\tejas\\appdata\\local\\programs\\python\\python310\\lib\\site-packages (from tensorflow->DeepImageSearch) (1.16.0)\n",
      "Requirement already satisfied: tensorboard<2.11,>=2.10 in c:\\users\\tejas\\appdata\\local\\programs\\python\\python310\\lib\\site-packages (from tensorflow->DeepImageSearch) (2.10.1)\n",
      "Requirement already satisfied: tensorflow-estimator<2.11,>=2.10.0 in c:\\users\\tejas\\appdata\\local\\programs\\python\\python310\\lib\\site-packages (from tensorflow->DeepImageSearch) (2.10.0)\n",
      "Requirement already satisfied: h5py>=2.9.0 in c:\\users\\tejas\\appdata\\local\\programs\\python\\python310\\lib\\site-packages (from tensorflow->DeepImageSearch) (3.7.0)\n",
      "Requirement already satisfied: keras<2.11,>=2.10.0 in c:\\users\\tejas\\appdata\\local\\programs\\python\\python310\\lib\\site-packages (from tensorflow->DeepImageSearch) (2.10.0)\n",
      "Requirement already satisfied: typing-extensions>=3.6.6 in c:\\users\\tejas\\appdata\\local\\programs\\python\\python310\\lib\\site-packages (from tensorflow->DeepImageSearch) (4.4.0)\n",
      "Requirement already satisfied: flatbuffers>=2.0 in c:\\users\\tejas\\appdata\\local\\programs\\python\\python310\\lib\\site-packages (from tensorflow->DeepImageSearch) (22.9.24)\n",
      "Requirement already satisfied: keras-preprocessing>=1.1.1 in c:\\users\\tejas\\appdata\\local\\programs\\python\\python310\\lib\\site-packages (from tensorflow->DeepImageSearch) (1.1.2)\n",
      "Requirement already satisfied: gast<=0.4.0,>=0.2.1 in c:\\users\\tejas\\appdata\\local\\programs\\python\\python310\\lib\\site-packages (from tensorflow->DeepImageSearch) (0.4.0)\n",
      "Requirement already satisfied: libclang>=13.0.0 in c:\\users\\tejas\\appdata\\local\\programs\\python\\python310\\lib\\site-packages (from tensorflow->DeepImageSearch) (14.0.6)\n",
      "Requirement already satisfied: astunparse>=1.6.0 in c:\\users\\tejas\\appdata\\local\\programs\\python\\python310\\lib\\site-packages (from tensorflow->DeepImageSearch) (1.6.3)\n",
      "Requirement already satisfied: tensorflow-io-gcs-filesystem>=0.23.1 in c:\\users\\tejas\\appdata\\local\\programs\\python\\python310\\lib\\site-packages (from tensorflow->DeepImageSearch) (0.27.0)\n",
      "Requirement already satisfied: colorama in c:\\users\\tejas\\appdata\\local\\programs\\python\\python310\\lib\\site-packages (from tqdm->DeepImageSearch) (0.4.5)\n",
      "Requirement already satisfied: wheel<1.0,>=0.23.0 in c:\\users\\tejas\\appdata\\local\\programs\\python\\python310\\lib\\site-packages (from astunparse>=1.6.0->tensorflow->DeepImageSearch) (0.37.1)\n",
      "Requirement already satisfied: markdown>=2.6.8 in c:\\users\\tejas\\appdata\\local\\programs\\python\\python310\\lib\\site-packages (from tensorboard<2.11,>=2.10->tensorflow->DeepImageSearch) (3.4.1)\n",
      "Requirement already satisfied: google-auth<3,>=1.6.3 in c:\\users\\tejas\\appdata\\local\\programs\\python\\python310\\lib\\site-packages (from tensorboard<2.11,>=2.10->tensorflow->DeepImageSearch) (2.13.0)\n",
      "Requirement already satisfied: tensorboard-data-server<0.7.0,>=0.6.0 in c:\\users\\tejas\\appdata\\local\\programs\\python\\python310\\lib\\site-packages (from tensorboard<2.11,>=2.10->tensorflow->DeepImageSearch) (0.6.1)\n",
      "Requirement already satisfied: werkzeug>=1.0.1 in c:\\users\\tejas\\appdata\\local\\programs\\python\\python310\\lib\\site-packages (from tensorboard<2.11,>=2.10->tensorflow->DeepImageSearch) (2.2.2)\n",
      "Requirement already satisfied: google-auth-oauthlib<0.5,>=0.4.1 in c:\\users\\tejas\\appdata\\local\\programs\\python\\python310\\lib\\site-packages (from tensorboard<2.11,>=2.10->tensorflow->DeepImageSearch) (0.4.6)\n",
      "Requirement already satisfied: requests<3,>=2.21.0 in c:\\users\\tejas\\appdata\\local\\programs\\python\\python310\\lib\\site-packages (from tensorboard<2.11,>=2.10->tensorflow->DeepImageSearch) (2.28.1)\n",
      "Requirement already satisfied: tensorboard-plugin-wit>=1.6.0 in c:\\users\\tejas\\appdata\\local\\programs\\python\\python310\\lib\\site-packages (from tensorboard<2.11,>=2.10->tensorflow->DeepImageSearch) (1.8.1)\n",
      "Requirement already satisfied: pyasn1-modules>=0.2.1 in c:\\users\\tejas\\appdata\\local\\programs\\python\\python310\\lib\\site-packages (from google-auth<3,>=1.6.3->tensorboard<2.11,>=2.10->tensorflow->DeepImageSearch) (0.2.8)\n",
      "Requirement already satisfied: cachetools<6.0,>=2.0.0 in c:\\users\\tejas\\appdata\\local\\programs\\python\\python310\\lib\\site-packages (from google-auth<3,>=1.6.3->tensorboard<2.11,>=2.10->tensorflow->DeepImageSearch) (5.2.0)\n",
      "Requirement already satisfied: rsa<5,>=3.1.4 in c:\\users\\tejas\\appdata\\local\\programs\\python\\python310\\lib\\site-packages (from google-auth<3,>=1.6.3->tensorboard<2.11,>=2.10->tensorflow->DeepImageSearch) (4.9)\n",
      "Requirement already satisfied: requests-oauthlib>=0.7.0 in c:\\users\\tejas\\appdata\\local\\programs\\python\\python310\\lib\\site-packages (from google-auth-oauthlib<0.5,>=0.4.1->tensorboard<2.11,>=2.10->tensorflow->DeepImageSearch) (1.3.1)\n",
      "Requirement already satisfied: idna<4,>=2.5 in c:\\users\\tejas\\appdata\\local\\programs\\python\\python310\\lib\\site-packages (from requests<3,>=2.21.0->tensorboard<2.11,>=2.10->tensorflow->DeepImageSearch) (3.4)\n",
      "Requirement already satisfied: charset-normalizer<3,>=2 in c:\\users\\tejas\\appdata\\local\\programs\\python\\python310\\lib\\site-packages (from requests<3,>=2.21.0->tensorboard<2.11,>=2.10->tensorflow->DeepImageSearch) (2.1.1)\n",
      "Requirement already satisfied: certifi>=2017.4.17 in c:\\users\\tejas\\appdata\\local\\programs\\python\\python310\\lib\\site-packages (from requests<3,>=2.21.0->tensorboard<2.11,>=2.10->tensorflow->DeepImageSearch) (2022.9.24)\n",
      "Requirement already satisfied: urllib3<1.27,>=1.21.1 in c:\\users\\tejas\\appdata\\local\\programs\\python\\python310\\lib\\site-packages (from requests<3,>=2.21.0->tensorboard<2.11,>=2.10->tensorflow->DeepImageSearch) (1.26.12)\n",
      "Requirement already satisfied: MarkupSafe>=2.1.1 in c:\\users\\tejas\\appdata\\local\\programs\\python\\python310\\lib\\site-packages (from werkzeug>=1.0.1->tensorboard<2.11,>=2.10->tensorflow->DeepImageSearch) (2.1.1)\n",
      "Requirement already satisfied: pyasn1<0.5.0,>=0.4.6 in c:\\users\\tejas\\appdata\\local\\programs\\python\\python310\\lib\\site-packages (from pyasn1-modules>=0.2.1->google-auth<3,>=1.6.3->tensorboard<2.11,>=2.10->tensorflow->DeepImageSearch) (0.4.8)\n",
      "Requirement already satisfied: oauthlib>=3.0.0 in c:\\users\\tejas\\appdata\\local\\programs\\python\\python310\\lib\\site-packages (from requests-oauthlib>=0.7.0->google-auth-oauthlib<0.5,>=0.4.1->tensorboard<2.11,>=2.10->tensorflow->DeepImageSearch) (3.2.2)\n",
      "Building wheels for collected packages: DeepImageSearch, annoy\n",
      "  Building wheel for DeepImageSearch (setup.py): started\n",
      "  Building wheel for DeepImageSearch (setup.py): finished with status 'done'\n",
      "  Created wheel for DeepImageSearch: filename=DeepImageSearch-1.4-py3-none-any.whl size=7399 sha256=4c7fa6f49bcf28d14ba9feed975c3c6c049dfe3abd202eeb798024fad5f51d5c\n",
      "  Stored in directory: c:\\users\\tejas\\appdata\\local\\pip\\cache\\wheels\\f3\\d9\\a3\\7da7bf1749544633249ab3bafd37cddf0cee5c7db1be7106b3\n",
      "  Building wheel for annoy (setup.py): started\n",
      "  Building wheel for annoy (setup.py): finished with status 'error'\n",
      "  Running setup.py clean for annoy\n",
      "Successfully built DeepImageSearch\n",
      "Failed to build annoy\n",
      "Installing collected packages: annoy, tqdm, pandas, DeepImageSearch\n",
      "  Running setup.py install for annoy: started\n",
      "  Running setup.py install for annoy: finished with status 'error'\n",
      "Note: you may need to restart the kernel to use updated packages.\n"
     ]
    },
    {
     "name": "stderr",
     "output_type": "stream",
     "text": [
      "  error: subprocess-exited-with-error\n",
      "  \n",
      "  × python setup.py bdist_wheel did not run successfully.\n",
      "  │ exit code: 1\n",
      "  ╰─> [14 lines of output]\n",
      "      c:\\Users\\tejas\\AppData\\Local\\Programs\\Python\\Python310\\lib\\site-packages\\setuptools\\installer.py:27: SetuptoolsDeprecationWarning: setuptools.installer is deprecated. Requirements should be satisfied by a PEP 517 installer.\n",
      "        warnings.warn(\n",
      "      running bdist_wheel\n",
      "      running build\n",
      "      running build_py\n",
      "      creating build\n",
      "      creating build\\lib.win-amd64-cpython-310\n",
      "      creating build\\lib.win-amd64-cpython-310\\annoy\n",
      "      copying annoy\\__init__.py -> build\\lib.win-amd64-cpython-310\\annoy\n",
      "      copying annoy\\__init__.pyi -> build\\lib.win-amd64-cpython-310\\annoy\n",
      "      copying annoy\\py.typed -> build\\lib.win-amd64-cpython-310\\annoy\n",
      "      running build_ext\n",
      "      building 'annoy.annoylib' extension\n",
      "      error: Microsoft Visual C++ 14.0 or greater is required. Get it with \"Microsoft C++ Build Tools\": https://visualstudio.microsoft.com/visual-cpp-build-tools/\n",
      "      [end of output]\n",
      "  \n",
      "  note: This error originates from a subprocess, and is likely not a problem with pip.\n",
      "  ERROR: Failed building wheel for annoy\n",
      "  error: subprocess-exited-with-error\n",
      "  \n",
      "  × Running setup.py install for annoy did not run successfully.\n",
      "  │ exit code: 1\n",
      "  ╰─> [16 lines of output]\n",
      "      c:\\Users\\tejas\\AppData\\Local\\Programs\\Python\\Python310\\lib\\site-packages\\setuptools\\installer.py:27: SetuptoolsDeprecationWarning: setuptools.installer is deprecated. Requirements should be satisfied by a PEP 517 installer.\n",
      "        warnings.warn(\n",
      "      running install\n",
      "      c:\\Users\\tejas\\AppData\\Local\\Programs\\Python\\Python310\\lib\\site-packages\\setuptools\\command\\install.py:34: SetuptoolsDeprecationWarning: setup.py install is deprecated. Use build and pip and other standards-based tools.\n",
      "        warnings.warn(\n",
      "      running build\n",
      "      running build_py\n",
      "      creating build\n",
      "      creating build\\lib.win-amd64-cpython-310\n",
      "      creating build\\lib.win-amd64-cpython-310\\annoy\n",
      "      copying annoy\\__init__.py -> build\\lib.win-amd64-cpython-310\\annoy\n",
      "      copying annoy\\__init__.pyi -> build\\lib.win-amd64-cpython-310\\annoy\n",
      "      copying annoy\\py.typed -> build\\lib.win-amd64-cpython-310\\annoy\n",
      "      running build_ext\n",
      "      building 'annoy.annoylib' extension\n",
      "      error: Microsoft Visual C++ 14.0 or greater is required. Get it with \"Microsoft C++ Build Tools\": https://visualstudio.microsoft.com/visual-cpp-build-tools/\n",
      "      [end of output]\n",
      "  \n",
      "  note: This error originates from a subprocess, and is likely not a problem with pip.\n",
      "error: legacy-install-failure\n",
      "\n",
      "× Encountered error while trying to install package.\n",
      "╰─> annoy\n",
      "\n",
      "note: This is an issue with the package mentioned above, not pip.\n",
      "hint: See above for output from the failure.\n"
     ]
    }
   ],
   "source": [
    "pip install DeepImageSearch"
   ]
  },
  {
   "cell_type": "code",
   "execution_count": 2,
   "metadata": {},
   "outputs": [
    {
     "ename": "ModuleNotFoundError",
     "evalue": "No module named 'DeepImageSearch'",
     "output_type": "error",
     "traceback": [
      "\u001b[1;31m---------------------------------------------------------------------------\u001b[0m",
      "\u001b[1;31mModuleNotFoundError\u001b[0m                       Traceback (most recent call last)",
      "Cell \u001b[1;32mIn [2], line 1\u001b[0m\n\u001b[1;32m----> 1\u001b[0m \u001b[39mfrom\u001b[39;00m \u001b[39mDeepImageSearch\u001b[39;00m \u001b[39mimport\u001b[39;00m Index,LoadData,SearchImage\n",
      "\u001b[1;31mModuleNotFoundError\u001b[0m: No module named 'DeepImageSearch'"
     ]
    }
   ],
   "source": [
    "from DeepImageSearch import Index,LoadData,SearchImage"
   ]
  },
  {
   "cell_type": "code",
   "execution_count": null,
   "metadata": {},
   "outputs": [],
   "source": []
  },
  {
   "cell_type": "code",
   "execution_count": null,
   "metadata": {},
   "outputs": [],
   "source": []
  },
  {
   "cell_type": "code",
   "execution_count": null,
   "metadata": {},
   "outputs": [],
   "source": []
  }
 ],
 "metadata": {
  "kernelspec": {
   "display_name": "Python 3.10.6 64-bit",
   "language": "python",
   "name": "python3"
  },
  "language_info": {
   "codemirror_mode": {
    "name": "ipython",
    "version": 3
   },
   "file_extension": ".py",
   "mimetype": "text/x-python",
   "name": "python",
   "nbconvert_exporter": "python",
   "pygments_lexer": "ipython3",
   "version": "3.10.6"
  },
  "orig_nbformat": 4,
  "vscode": {
   "interpreter": {
    "hash": "29396a9934f511bd8d809bf8e730fec6847467b1c2b4c6d2a4c9b0e1cfbccf5d"
   }
  }
 },
 "nbformat": 4,
 "nbformat_minor": 2
}
